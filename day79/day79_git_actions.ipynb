{
 "cells": [
  {
   "cell_type": "markdown",
   "metadata": {},
   "source": [
    "# Git Actions"
   ]
  },
  {
   "cell_type": "markdown",
   "metadata": {
    "vscode": {
     "languageId": "plaintext"
    }
   },
   "source": [
    "## Git Actions\n",
    "\n",
    "reference: [Git Action](https://docs.github.com/en/actions)\n",
    "\n",
    "<br>\n",
    "\n",
    "GitHub에서 제공하는 자동화 도구\n",
    "\n",
    "소프트웨어 개발 워크플로우를 자동화하는 도구로, 코드가 GitHub에 푸시되거나 PR이 생성되는 등의 특정 이벤트가 발생할 때 자동으로 특정 작업 실행.\n",
    "\n",
    "주로 CI/CD(지속적 통합/지속적 배포) 파이프라인을 설정하는 데 사용되며, GitHub 리포지토리 내에서 쉽게 관리 가능."
   ]
  },
  {
   "cell_type": "markdown",
   "metadata": {
    "vscode": {
     "languageId": "plaintext"
    }
   },
   "source": [
    "### 구성\n",
    "\n",
    "- Workflow\n",
    "<br>\n",
    "GitHub Actions에서 실행되는 전체 자동화 프로세스.\n",
    "<br>\n",
    "yaml 파일 형식으로 정의되며, 특정 이벤트에 반응하여 실행.\n",
    "<br>\n",
    "각 워크플로우는 리포지토리의 .github/workflows/ 디렉토리 내에 yaml 파일로 저장.\n",
    "\n",
    "- Event\n",
    "<br>\n",
    "이벤트는 GitHub에서 발생하는 특정 활동.\n",
    "<br>\n",
    "ex), push, pull_request, issue 등.\n",
    "\n",
    "- Job\n",
    "<br>\n",
    "워크플로우는 하나 이상의 job으로 구성.\n",
    "<br>\n",
    "각 잡은 하나의 실행 단위를 나타내며, 독립적으로 실행.\n",
    "<br>\n",
    "&nbsp;&nbsp;&nbsp;&nbsp;ex) 하나의 잡은 테스트를 실행하고, 다른 잡은 배포 가능.\n",
    "<br>\n",
    "잡은 여러 steps 포함 가능.\n",
    "\n",
    "- Step\n",
    "<br>\n",
    "각 잡은 여러 개의 단계를 가질 수 있음.\n",
    "<br>\n",
    "각 단계는 셸 명령어나 액션 실행.\n",
    "<br>\n",
    "&nbsp;&nbsp;&nbsp;&nbsp;ex) 특정 의존성 설치, 테스트를 실행 등.\n",
    "\n",
    "- Action\n",
    "<br>\n",
    "액션은 실제로 특정 작업을 수행하는 작은 단위의 코드.\n",
    "<br>\n",
    "&nbsp;&nbsp;&nbsp;&nbsp;ex) 코드 빌드, 테스트 실행, 배포 등.\n",
    "<br>\n",
    "GitHub Actions에서는 이미 다양한 액션을 제공하고 있으며, 사용자는 필요에 따라 커스텀 액션 제작 가능.\n",
    "\n",
    "<br>\n",
    "\n",
    "<font style=\"font-size:18px\"> 코드 예제 </font>\n",
    "\n",
    "\n",
    "> ```yaml\n",
    "> name: Python application\n",
    "> \n",
    "> # 해당 워크플로우가 트리거되는 조건을 설정\n",
    "> on:\n",
    ">   # 'main' 브랜치에 푸시가 발생하면 워크플로우를 실행\n",
    ">   push:\n",
    ">     branches: [ \"main\" ]\n",
    ">   # 'main' 브랜치로 Pull Request가 생성되거나 업데이트되면 워크플로우 실행\n",
    ">   pull_request:\n",
    ">     branches: [ \"main\" ]\n",
    "> \n",
    "> # 권한 설정\n",
    "> permissions:\n",
    ">   # 'contents' 권한을 읽기 전용으로 설정 (소스 코드 읽기만 가능)\n",
    ">   contents: read\n",
    "> \n",
    "> jobs:\n",
    ">   build:\n",
    ">     # 해당 작업이 실행될 환경을 지정 (Ubuntu 최신 버전 사용)\n",
    ">     runs-on: ubuntu-latest\n",
    "> \n",
    ">     steps:\n",
    ">     # 1단계: 코드를 체크아웃하여 워크플로우에서 사용할 수 있도록 준비\n",
    ">     - uses: actions/checkout@v4\n",
    "> \n",
    ">     # 2단계: Python 3.10 환경을 설정\n",
    ">     - name: Set up Python 3.10\n",
    ">       uses: actions/setup-python@v3\n",
    ">       with:\n",
    ">         python-version: \"3.10\"\n",
    "> \n",
    ">     # 3단계: 필요한 의존성 설치 (pip 최신화 및 flake8, pytest 설치)\n",
    ">     - name: Install dependencies\n",
    ">       run: |\n",
    ">         # pip 최신화\n",
    ">         python -m pip install --upgrade pip\n",
    ">         # flake8(코드 스타일 검사) 및 pytest(테스트 실행) 설치\n",
    ">         pip install flake8 pytest\n",
    ">         # 만약 'requirements.txt' 파일이 존재하면 의존성 파일을 설치\n",
    ">         if [ -f requirements.txt ]; then pip install -r requirements.txt; fi\n",
    "> \n",
    ">     # 4단계: flake8로 코드 스타일 검사 (에러 및 경고를 출력)\n",
    ">     - name: Lint with flake8\n",
    ">       run: |\n",
    ">         # E9, F63, F7, F82 오류를 선택하여 출력 (파이썬 문법 오류 및 정의되지 않은 이름)\n",
    ">         flake8 . --count --select=E9,F63,F7,F82 --show-source --statistics\n",
    ">         # 나머지 스타일 문제는 경고로 처리하고 복잡도와 라인 길이에 대한 제한 설정\n",
    ">         flake8 . --count --exit-zero --max-complexity=10 --max-line-length=127 --statistics\n",
    "> \n",
    ">     # 5단계: pytest로 테스트 실행\n",
    ">     - name: Test with pytest\n",
    ">       run: |\n",
    ">         # pytest를 사용하여 테스트 실행\n",
    ">         pytest\n",
    "> \n",
    ">     # 6단계: unittest로 테스트 실행 (tests 디렉토리 내 테스트 파일 발견 및 실행)\n",
    ">     - name: Run unittest\n",
    ">       run: |\n",
    ">         # unittest를 사용하여 'tests' 디렉토리 내 모든 테스트 실행\n",
    ">         python -m unittest discover -s tests\n",
    "> ```"
   ]
  },
  {
   "cell_type": "markdown",
   "metadata": {
    "vscode": {
     "languageId": "plaintext"
    }
   },
   "source": [
    "### template\n",
    "\n",
    "<img src=\"https://velog.velcdn.com/images/sangwoong/post/0a170bd4-000d-4f81-ac89-f6f9188f2ed5/image.png\" width=600>\n",
    "\n",
    "<br>\n",
    "\n",
    "git action에서 제공하는 CI/CD 템플릿을 사용하여 쉽게 구성 가능. <br>\n",
    "CI/CD를 구축하고 싶은 repo의 actions 탭에서 원하는 template 선택. <br>"
   ]
  },
  {
   "cell_type": "markdown",
   "metadata": {
    "vscode": {
     "languageId": "plaintext"
    }
   },
   "source": [
    "## CI/CD"
   ]
  },
  {
   "cell_type": "markdown",
   "metadata": {},
   "source": [
    "### CI/CD\n",
    "\n",
    "<img src=\"https://velog.velcdn.com/images/cataiden/post/f942e105-30d2-4f22-ad5e-428208bc6bab/image.png\" width=500>\n",
    "\n",
    "<img src=\"https://cms-cdn.katalon.com/large_banner_6_3cc61378b6.png\" width=500>\n",
    "\n",
    "소프트웨어 개발 및 운영에 있어 **효율성, 안정성, 유연성**을 높여주는 핵심적인 도구\n",
    "\n",
    "<br>\n",
    "\n",
    "<font style=\"font-size:20px\"> CI/CD를 도입하는 이유 </font>\n",
    "\n",
    "CI/CD를 도입하는 이유는 주로 소프트웨어 개발 프로세스를 자동화하고, 품질을 향상시키며, 개발 및 배포 속도 향상을 위함.\n",
    "\n",
    "<br>\n",
    "\n",
    "1. 개발 효율성 향상\n",
    "    - 개발자가 코드를 자주 병합하고 테스트하는 **지속적 통합(CI)**을 통해 코드 충돌 문제를 조기에 발견할 수 있음\n",
    "    - 반복적인 작업(빌드, 테스트, 배포)을 자동화하여 개발자의 시간을 절약함\n",
    "\n",
    "2. 빠르고 안정적인 배포\n",
    "    - 자동화된 파이프라인을 통해 **지속적 배포(CD)**를 구현하면, 코드를 신뢰할 수 있는 방식으로 빠르게 프로덕션에 배포할 수 있음\n",
    "    - 배포 속도가 빨라짐에 따라 새로운 기능이나 수정 사항을 신속히 사용자에게 전달할 수 있음\n",
    "\n",
    "3. 품질 보장\n",
    "    - 자동화된 테스트를 포함하여 배포 전에 문제를 식별하고 해결할 수 있음\n",
    "    - 코드 품질을 지속적으로 검증함으로써 소프트웨어의 안정성을 높임\n",
    "\n",
    "4. 팀 협업 강화\n",
    "    - 코드가 자주 병합되므로 팀 간의 협업이 원활해지고, 통합 시 문제를 최소화할 수 있음\n",
    "    - 개발, 테스트, 운영 팀 간의 의사소통을 간소화함\n",
    "\n",
    "5. 사용자 경험 개선\n",
    "    - 빠른 피드백 루프를 통해 사용자 요청이나 버그 수정을 신속히 반영할 수 있음\n",
    "    - 시스템 가동 중단을 최소화하여 사용자 경험을 유지할 수 있음\n",
    "\n",
    "6. 비용 절감\n",
    "    - 초기에 문제를 발견하고 수정하면, 프로덕션 단계에서 발생할 수 있는 큰 비용을 방지할 수 있음\n",
    "    - 자동화된 프로세스를 통해 인적 오류를 줄이고 반복적인 수작업 비용을 줄임\n",
    "\n",
    "7. 시장 경쟁력 강화\n",
    "    - 새로운 기능이나 서비스를 빠르게 제공할 수 있어 시장 경쟁력을 확보할 수 있음\n",
    "    - 지속적인 개선과 배포를 통해 제품의 가치를 높임"
   ]
  },
  {
   "cell_type": "markdown",
   "metadata": {},
   "source": [
    "#### 지속적 통합 (Continuous Integration, CI)\n",
    "\n",
    "코드를 지속적으로 통합하고, 이를 자동으로 테스트하여 통합 버그를 최소화하는 프로세스\n",
    "\n",
    "<br>\n",
    "\n",
    "<font style=\"font-size:18px\"> 특징 </font>\n",
    "\n",
    "- push할 때마다 자동으로 빌드 및 테스트 실행 <br>\n",
    "-> 자주 코드를 통합할 수 있으며, 코드가 충돌되는 현상 예방 가능. <br>\n",
    "-> 프로덕트 품질 관리 및 버그 발견이 빨라짐."
   ]
  },
  {
   "cell_type": "markdown",
   "metadata": {},
   "source": [
    "#### 지속적 배포 (Continuous Deployment 또는 Continuous Delivery, CD)\n",
    "\n",
    "지속적으로 통합된 코드를 자동으로 프로덕션 환경에 배포하는 프로세스\n",
    "\n",
    "<br>\n",
    "\n",
    "<font style=\"font-size:18px\"> 특징 </font>\n",
    "\n",
    "- 코드 변경 사항이 테스트 및 승인을 거쳐 자동으로 프로덕션 환경에 배포\n",
    "- 새로운 기능과 버그 수정 사항을 빠르게 배포 가능 <br>\n",
    "-> 사용자 피드백을 수집하고 제품을 개선하는 속도를 향상 가능."
   ]
  },
  {
   "cell_type": "markdown",
   "metadata": {},
   "source": [
    "### 종류\n",
    "\n",
    "| CI/CD 도구       | 설명                                                                 | 주요 특징                                                                                     | 적합한 경우                                      |\n",
    "|------------------|----------------------------------------------------------------------|---------------------------------------------------------------------------------------------|------------------------------------------------|\n",
    "| **GitHub Actions** | GitHub에서 제공하는 CI/CD 도구로, GitHub 저장소와 긴밀하게 통합됨.      | - GitHub 이벤트(푸시, PR 등)에 반응.<br>- YAML 파일로 워크플로우 정의.<br>- 다양한 액션 추가 가능 (Marketplace). | GitHub 저장소 기반의 프로젝트를 자동화할 때.     |\n",
    "| **Jenkins**       | 오픈 소스 기반 CI/CD 도구로, 사용자 정의가 자유롭고 확장 가능함.         | - 플러그인을 통해 모든 환경 지원.<br>- 자체 서버에서 호스팅 가능.<br>- 복잡한 파이프라인 관리 가능.       | 다양한 환경에서 복잡한 CI/CD 파이프라인이 필요할 때. |\n",
    "| **Travis CI**     | 간단하고 설정이 쉬운 호스팅 기반 CI/CD 도구.                          | - `.travis.yml`로 설정.<br>- GitHub와 통합.<br>- 오픈 소스 프로젝트에 무료 제공.            | 간단한 CI 설정과 오픈 소스 프로젝트에 적합할 때. |\n",
    "| **CircleCI**      | 클라우드 기반 CI/CD 도구로, 병렬 빌드와 빠른 실행이 특징.               | - YAML 파일로 구성.<br>- 병렬 처리와 캐시를 통한 빠른 빌드.<br>- GitHub 및 Bitbucket과 통합. | 병렬 빌드와 빠른 테스트가 중요한 경우.             |"
   ]
  },
  {
   "cell_type": "markdown",
   "metadata": {},
   "source": [
    "#### Git Action을 통한 구성\n",
    "\n",
    ".github/workflows/cicd.yaml을 통해 ci/cd 구축 가능. <br>\n",
    "폴더 트리는 아래와 같이 구성. <br>\n",
    "\n",
    "<br>\n",
    "\n",
    "\n",
    "> ```\n",
    "> .github\n",
    "> ├── workflows\n",
    "> │   └── cicd-file-name.yaml\n",
    "> src\n",
    "> app.ts\n",
    "> package.json\n",
    "> │\n",
    "> ... \n",
    "> ```\n",
    "\n",
    "<br>\n",
    "\n",
    "<font style=\"font-size:18px\"> 주요 구성 요소 </font>\n",
    "\n",
    "- Workflow\n",
    "<br>\n",
    "한개 이상의 job (CI/CD)을 실행할 수 있는 일종의 프로세스.\n",
    "<br>\n",
    "yaml 파일과 문법으로 구성되며 내부 스크립트에 정의된 event로 워크플로우 실행.\n",
    "<br>\n",
    "\n",
    "- Event\n",
    "<br>\n",
    "workflow가 실행되기 위한 행동.\n",
    "<br>\n",
    "&nbsp;&nbsp;&nbsp;&nbsp;ex) GitHub에서 사용되는 push, pull request, merge 등\n",
    "\n",
    "- Jobs <br>\n",
    "워크플로우에서 특정 이벤트에 따라 처리하는 프로세스. <br>\n",
    "프로세스는 각각의 step으로 나뉘고 이 step은 shell에서 동작하는 CLI와 동일하게 실행. <br>\n",
    "각각의 step들 정의한 순서대로 실행되며, step 별로 동일한 환경변수를 지정할 수 있어 데이터 공유 가능. <br>\n",
    "하나의 job이 실행되기 전에 다른 job이 무조건 실행되어야 하는 것처럼 의존관계를 가질 수 있으며 병렬적으로 실행 가능. <br>\n",
    "\n",
    "- Actions <br>\n",
    "자주 사용되는 작업 정의. <br>\n",
    "워크플로우 내에서 자주 반복되는 스크립트를 미리 정의하여 좀 더 효율적으로 관리 가능. <br>\n",
    "GitHub 마켓플레이스에 배포된 action을 참고하여 효과적인 구성 가능. <br>\n",
    "\n",
    "- env <br>\n",
    "노출되어서는 안되는 민감한 정보를 환경변수로 설정 사용. <br>\n",
    "repo별로 환경변수를 독립적으로 설정할 수 있고, organization을 사용한다면 모든 repository에 적용되는 환경변수 관리 가능. <br>\n",
    "    > ```\n",
    "    > - name: Environment Setup\n",
    "    >     run: ${{ secrets.등록한_환경변수_이름 }}\n",
    "    > \n",
    "    > # ex)\n",
    "    > - name: Configure AWS Credentials\n",
    "    > uses: aws-actions/configure-aws-credentials@v1\n",
    "    > with:\n",
    "    >   aws-access-key-id: ${{ secrets.AWS_ACCESS_KEY_ID }}\n",
    "    >   aws-secret-access-key: ${{ secrets.AWS_SECRET_ACCESS_KEY }}\n",
    "    >   aws-region: ap-northeast-2\n",
    "    > ```\n",
    "    <img src=\"https://velog.velcdn.com/images/sangwoong/post/a65f618e-de39-4190-8f23-30379e62d896/image.png\">\n",
    "    <img src=\"https://velog.velcdn.com/images/sangwoong/post/b5197a94-e24b-4d49-9c99-9468ff07c9d2/image.png\">"
   ]
  },
  {
   "cell_type": "markdown",
   "metadata": {},
   "source": [
    "### 구축 방법\n",
    "\n",
    "site: [CI-CD 구축](https://pinnate-orchid-cc0.notion.site/Day79-CI-CD-14f0b3b977c980cba805c954eac35ec9?pvs=4)"
   ]
  }
 ],
 "metadata": {
  "kernelspec": {
   "display_name": "Python 3.9.12 ('base')",
   "language": "python",
   "name": "python3"
  },
  "language_info": {
   "name": "python",
   "version": "3.9.12"
  },
  "vscode": {
   "interpreter": {
    "hash": "e4af6128c7e0808fede432f38729c473c5b0d80882e83c469acdb54455c56396"
   }
  }
 },
 "nbformat": 4,
 "nbformat_minor": 2
}
